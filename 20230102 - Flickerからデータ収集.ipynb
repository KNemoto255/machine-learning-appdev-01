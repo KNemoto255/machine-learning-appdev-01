{
 "cells": [
  {
   "cell_type": "code",
   "execution_count": 1,
   "id": "d9aaf45a",
   "metadata": {},
   "outputs": [
    {
     "ename": "SyntaxError",
     "evalue": "invalid syntax (2640840128.py, line 16)",
     "output_type": "error",
     "traceback": [
      "\u001b[1;36m  Input \u001b[1;32mIn [1]\u001b[1;36m\u001b[0m\n\u001b[1;33m    pip install flickrapi\u001b[0m\n\u001b[1;37m        ^\u001b[0m\n\u001b[1;31mSyntaxError\u001b[0m\u001b[1;31m:\u001b[0m invalid syntax\n"
     ]
    }
   ],
   "source": [
    "#まずFlickerのAPIキーを取得し、Flickerからスクレイピングできるようにする\n",
    "\"\"\"\n",
    "Object Detector\n",
    "An application that helps detects various types of objects, by machine learning algorithm.\n",
    "\n",
    "Object Detector\n",
    "Key:\n",
    "5cbe8ad61a207659b9ea39a367fed2a0\n",
    "\n",
    "Secret:\n",
    "e563ea2aa86ae449\n",
    "\n",
    "\"\"\"\n",
    "\n",
    "#FlickerのAPIをインストールする\n",
    "pip install flickrapi"
   ]
  },
  {
   "cell_type": "code",
   "execution_count": 19,
   "id": "65c913fd",
   "metadata": {},
   "outputs": [],
   "source": [
    "from flickrapi import FlickrAPI\n",
    "from urllib.request import urlretrieve\n",
    "from pprint import pprint\n",
    "import os, time, sys"
   ]
  },
  {
   "cell_type": "code",
   "execution_count": 20,
   "id": "af5f55a9",
   "metadata": {},
   "outputs": [
    {
     "name": "stdout",
     "output_type": "stream",
     "text": [
      "object_images/blood\n",
      "0of400 has done!\n",
      "10of400 has done!\n",
      "20of400 has done!\n",
      "30of400 has done!\n",
      "40of400 has done!\n",
      "50of400 has done!\n",
      "60of400 has done!\n",
      "70of400 has done!\n",
      "80of400 has done!\n",
      "90of400 has done!\n",
      "100of400 has done!\n",
      "110of400 has done!\n",
      "120of400 has done!\n",
      "130of400 has done!\n",
      "140of400 has done!\n",
      "150of400 has done!\n",
      "160of400 has done!\n",
      "170of400 has done!\n",
      "180of400 has done!\n",
      "190of400 has done!\n",
      "200of400 has done!\n",
      "210of400 has done!\n",
      "220of400 has done!\n",
      "230of400 has done!\n",
      "240of400 has done!\n",
      "250of400 has done!\n",
      "260of400 has done!\n",
      "270of400 has done!\n",
      "280of400 has done!\n",
      "290of400 has done!\n",
      "300of400 has done!\n",
      "310of400 has done!\n",
      "320of400 has done!\n",
      "330of400 has done!\n",
      "340of400 has done!\n",
      "350of400 has done!\n",
      "360of400 has done!\n",
      "370of400 has done!\n",
      "380of400 has done!\n",
      "390of400 has done!\n"
     ]
    }
   ],
   "source": [
    "#APIキーの情報を入力\n",
    "\n",
    "key = \"5cbe8ad61a207659b9ea39a367fed2a0\"\n",
    "secret = \"e563ea2aa86ae449\"\n",
    "wait_time = 0.1\n",
    "amount = 400\n",
    "notify_amout = 10\n",
    "\n",
    "objectname = \"blood\"\n",
    "image_size =\"url_q\"\n",
    "\n",
    "savedir = \"object_images/\" + objectname\n",
    "\n",
    "flickr = FlickrAPI(key, secret, format = \"parsed-json\")\n",
    "result = flickr.photos.search(\n",
    "    #tag = objectname,\n",
    "    text = objectname,\n",
    "    per_page = amount,\n",
    "    media = \"photos\",\n",
    "    sort = \"relevance\",\n",
    "\n",
    "    #１はセーフ状態、3がレストリクトを表す\n",
    "    #safe_seach = 1,\n",
    "    safe_seach = 3,\n",
    "\n",
    "    #qはサムネサイズ、oはオリジナルサイズ\n",
    "    #extras = \"url_q, licence\"\n",
    "    extras = image_size\n",
    ")\n",
    "\n",
    "\n",
    "photos = result[\"photos\"]\n",
    "#pprint(photos)\n",
    "print(savedir)\n",
    "\n",
    "#シークエント演算でphotoのデータを取り出す\n",
    "#per_pageに指定した数だけ画像がスクレイピングされる\n",
    "for i,photo in enumerate(photos[\"photo\"]):\n",
    "\n",
    "    #スクレイピングした画像を.jpg方式で保存する\n",
    "    #url_q = photo[\"url_q\"]\n",
    "    \n",
    "    url_q = photo[image_size]\n",
    "    if url_q is not None:\n",
    "    \n",
    "        filepath = savedir + \"/\" + photo[\"id\"] + \".jpg\"\n",
    "\n",
    "        #ファイルが存在するかフェイルセーフする\n",
    "        if os.path.exists(filepath): continue\n",
    "        urlretrieve(url_q, filepath)\n",
    "        time.sleep(wait_time)\n",
    "        \n",
    "        if i % notify_amout == 0:\n",
    "            print(\"\" + str(i) + \"of\" + str(amount) + \" has done!\")"
   ]
  },
  {
   "cell_type": "code",
   "execution_count": null,
   "id": "793a9bee",
   "metadata": {},
   "outputs": [],
   "source": []
  },
  {
   "cell_type": "code",
   "execution_count": null,
   "id": "366fbc14",
   "metadata": {},
   "outputs": [],
   "source": []
  }
 ],
 "metadata": {
  "kernelspec": {
   "display_name": "Python 3 (ipykernel)",
   "language": "python",
   "name": "python3"
  },
  "language_info": {
   "codemirror_mode": {
    "name": "ipython",
    "version": 3
   },
   "file_extension": ".py",
   "mimetype": "text/x-python",
   "name": "python",
   "nbconvert_exporter": "python",
   "pygments_lexer": "ipython3",
   "version": "3.9.12"
  },
  "varInspector": {
   "cols": {
    "lenName": 16,
    "lenType": 16,
    "lenVar": 40
   },
   "kernels_config": {
    "python": {
     "delete_cmd_postfix": "",
     "delete_cmd_prefix": "del ",
     "library": "var_list.py",
     "varRefreshCmd": "print(var_dic_list())"
    },
    "r": {
     "delete_cmd_postfix": ") ",
     "delete_cmd_prefix": "rm(",
     "library": "var_list.r",
     "varRefreshCmd": "cat(var_dic_list()) "
    }
   },
   "types_to_exclude": [
    "module",
    "function",
    "builtin_function_or_method",
    "instance",
    "_Feature"
   ],
   "window_display": false
  }
 },
 "nbformat": 4,
 "nbformat_minor": 5
}
