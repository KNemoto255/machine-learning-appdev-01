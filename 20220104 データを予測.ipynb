{
 "cells": [
  {
   "cell_type": "code",
   "execution_count": 46,
   "id": "6fbd2e93",
   "metadata": {},
   "outputs": [],
   "source": [
    "#PIL、SKLearnを使ってデータを変換する\n",
    "from PIL import Image\n",
    "import os, time, sys\n",
    "\n",
    "import keras\n",
    "from keras.models import Sequential\n",
    "from keras.models import load_model\n",
    "from keras.layers import Conv2D, MaxPooling2D\n",
    "from keras.layers import Activation, Dropout, Flatten, Dense\n",
    "from keras.utils import np_utils\n",
    "\n",
    "classes = [\"monkey\", \"boar\", \"crow\"]\n",
    "num_classes = len(classes)\n",
    "image_size = 50\n",
    "\n",
    "My_decoder_name = \"Animal_Decoder_aug\"\n",
    "My_data_name = \"npydata01_aug\"\n",
    "My_input_shape = (50, 50, 3)\n",
    "My_predict_image = \"boar (2).jpg\""
   ]
  },
  {
   "cell_type": "code",
   "execution_count": 47,
   "id": "0134ee6b",
   "metadata": {},
   "outputs": [],
   "source": [
    "#予測に使うモデル → 学習に使ったモデルと全く同じ定義でOK。入力するテンソルのみ引数を変える\n",
    "def build_model():\n",
    "        model = Sequential()\n",
    "        \n",
    "        #一番最初の入力層には、モデルの画像サイズを使う\n",
    "        #全結合をした後ドロップアウトすることで若干精度が向上する\n",
    "        model.add(Conv2D(filters=32, kernel_size=(3,3), padding=\"same\", input_shape=My_input_shape))\n",
    "        model.add(Activation(\"relu\"))\n",
    "        model.add(Conv2D(filters=32, kernel_size=(3,3)))\n",
    "        model.add(Activation(\"relu\"))\n",
    "        model.add(MaxPooling2D(pool_size=(2,2)))\n",
    "        model.add(Dropout(0.25))\n",
    "    \n",
    "        model.add(Conv2D(filters=64, kernel_size=(3,3),padding=\"same\", input_shape=My_input_shape))\n",
    "        model.add(Activation(\"relu\"))\n",
    "        model.add(Conv2D(filters=64, kernel_size=(3,3)))\n",
    "        model.add(Activation(\"relu\"))\n",
    "        model.add(MaxPooling2D(pool_size=(2,2)))\n",
    "        model.add(Dropout(0.25))\n",
    "    \n",
    "        #全結合層に入力するため、Flattenレイヤーで4階テンソルとなっている出力値を2階テンソルに直す          \n",
    "        model.add(Flatten())\n",
    "    \n",
    "        #全結合層\n",
    "        model.add(Dense(units=512))\n",
    "        model.add(Activation(\"relu\"))\n",
    "        model.add(Dropout(0.5))\n",
    "        model.add(Dense(units=3))\n",
    "        model.add(Activation(\"softmax\"))\n",
    "        model.output_shape\n",
    "    \n",
    "        #モデルをコンパイル + 損失関数・最適化関数を定義\n",
    "        model.compile(loss = \"categorical_crossentropy\", optimizer=\"adam\", metrics = [\"accuracy\"])\n",
    "    \n",
    "        #学習したモデルをロードする\n",
    "        model = load_model(\"./\" + My_decoder_name + \".h5\")\n",
    "\n",
    "        return model\n",
    "\n",
    "#メイン関数 - 任意のイメージがどの物体化を予測する\n",
    "def main():\n",
    "    image = Image.open(My_predict_image)\n",
    "    image = image.convert(\"RGB\")\n",
    "    image = image.resize((image_size,image_size))\n",
    "    data = np.asarray(image)\n",
    "\n",
    "    X = []\n",
    "    X.append(data)\n",
    "    X = np.array(X)\n",
    "    model = build_model()\n",
    "\n",
    "    result = model.predict([X])[0]\n",
    "    predicted = result.argmax()\n",
    "    percentage = result[predicted] * 100\n",
    "    print(result)\n",
    "    print(\"Object is {0}, with {1} probability.\".format(classes[predicted], percentage))"
   ]
  },
  {
   "cell_type": "code",
   "execution_count": 48,
   "id": "b065fceb",
   "metadata": {},
   "outputs": [
    {
     "name": "stdout",
     "output_type": "stream",
     "text": [
      "1/1 [==============================] - 0s 84ms/step\n",
      "[0. 1. 0.]\n",
      "Object is boar, with 100.0 probability.\n"
     ]
    }
   ],
   "source": [
    "if __name__ == \"__main__\":\n",
    "    main()"
   ]
  },
  {
   "cell_type": "code",
   "execution_count": null,
   "id": "e1ba6444",
   "metadata": {},
   "outputs": [],
   "source": []
  }
 ],
 "metadata": {
  "kernelspec": {
   "display_name": "Python 3 (ipykernel)",
   "language": "python",
   "name": "python3"
  },
  "language_info": {
   "codemirror_mode": {
    "name": "ipython",
    "version": 3
   },
   "file_extension": ".py",
   "mimetype": "text/x-python",
   "name": "python",
   "nbconvert_exporter": "python",
   "pygments_lexer": "ipython3",
   "version": "3.9.12"
  },
  "varInspector": {
   "cols": {
    "lenName": 16,
    "lenType": 16,
    "lenVar": 40
   },
   "kernels_config": {
    "python": {
     "delete_cmd_postfix": "",
     "delete_cmd_prefix": "del ",
     "library": "var_list.py",
     "varRefreshCmd": "print(var_dic_list())"
    },
    "r": {
     "delete_cmd_postfix": ") ",
     "delete_cmd_prefix": "rm(",
     "library": "var_list.r",
     "varRefreshCmd": "cat(var_dic_list()) "
    }
   },
   "types_to_exclude": [
    "module",
    "function",
    "builtin_function_or_method",
    "instance",
    "_Feature"
   ],
   "window_display": false
  }
 },
 "nbformat": 4,
 "nbformat_minor": 5
}
